{
 "cells": [
  {
   "cell_type": "markdown",
   "id": "6a9caedd-5c00-4b2d-8068-2a560b190622",
   "metadata": {},
   "source": [
    "# Data Science Tools and Ecosystem"
   ]
  },
  {
   "cell_type": "markdown",
   "id": "40079de1-5564-4bb9-a63d-03ed4ee3518f",
   "metadata": {},
   "source": [
    "In this notebook, Data Science Tools and Ecosystem are summarized."
   ]
  },
  {
   "cell_type": "markdown",
   "id": "1c9f30c0-3e59-4288-9f15-772b044c8393",
   "metadata": {},
   "source": [
    "**Objectives:**\n",
    "- List popular languages for Data Science.\n",
    "- List popular libraries for Data Science.\n",
    "- Create a single column table indicating three development environment open source tools used in data science."
   ]
  },
  {
   "cell_type": "markdown",
   "id": "72a6235d-9f77-4dca-af5d-58a1c432aad0",
   "metadata": {
    "tags": []
   },
   "source": [
    "## Author\n",
    "Isabela Toledo"
   ]
  },
  {
   "cell_type": "markdown",
   "id": "5ec23035-deea-4fe3-8d57-25519d8a32f1",
   "metadata": {},
   "source": [
    "Some of the popular languages that Data Scientists use are:\n",
    "1. R\n",
    "2. Python\n",
    "3. SQL"
   ]
  },
  {
   "cell_type": "markdown",
   "id": "bbc1b194-7601-49b5-9dcd-7db6e7966e18",
   "metadata": {},
   "source": [
    "Some of the commonly used libraries used by Data Scientists include:\n",
    "1. Pandas\n",
    "2. NumPy\n",
    "3. Scikitlearn"
   ]
  },
  {
   "cell_type": "markdown",
   "id": "891cdeb8-e0a5-47dc-a418-06e8814b2b15",
   "metadata": {},
   "source": [
    "|Data Science Tools |\n",
    "| ------ |\n",
    "| RStudio |\n",
    "|Jupyter Notebooks |\n",
    "| Spyder |"
   ]
  },
  {
   "cell_type": "markdown",
   "id": "c9e45ca5-fc15-4c65-8c31-248e823cdc5d",
   "metadata": {},
   "source": [
    "### Below are a few examples of evaluating arithmetic expressions in Python\n"
   ]
  },
  {
   "cell_type": "code",
   "execution_count": 1,
   "id": "0b437ee9-7cb8-4b43-a6a0-3c0cfe9f8c90",
   "metadata": {
    "tags": []
   },
   "outputs": [
    {
     "data": {
      "text/plain": [
       "17"
      ]
     },
     "execution_count": 1,
     "metadata": {},
     "output_type": "execute_result"
    }
   ],
   "source": [
    "#This a simple arithmetic expression to mutiply then add integers\n",
    "(3*4)+5"
   ]
  },
  {
   "cell_type": "code",
   "execution_count": 6,
   "id": "bb4ced9b-5af2-427c-b2a6-489816e473c1",
   "metadata": {
    "tags": []
   },
   "outputs": [
    {
     "data": {
      "text/plain": [
       "3.3333333333333335"
      ]
     },
     "execution_count": 6,
     "metadata": {},
     "output_type": "execute_result"
    }
   ],
   "source": [
    "#This will convert 200 minutes to hours by diving by 60\n",
    "200/60\n"
   ]
  }
 ],
 "metadata": {
  "kernelspec": {
   "display_name": "Python",
   "language": "python",
   "name": "conda-env-python-py"
  },
  "language_info": {
   "codemirror_mode": {
    "name": "ipython",
    "version": 3
   },
   "file_extension": ".py",
   "mimetype": "text/x-python",
   "name": "python",
   "nbconvert_exporter": "python",
   "pygments_lexer": "ipython3",
   "version": "3.7.12"
  }
 },
 "nbformat": 4,
 "nbformat_minor": 5
}
